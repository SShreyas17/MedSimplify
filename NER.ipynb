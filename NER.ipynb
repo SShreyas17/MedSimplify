{
 "cells": [
  {
   "cell_type": "code",
   "execution_count": 1,
   "metadata": {
    "colab": {
     "base_uri": "https://localhost:8080/"
    },
    "id": "eM6C_fJDTQA4",
    "outputId": "fc39c593-879b-4798-b72e-a54e9c15b65d"
   },
   "outputs": [
    {
     "name": "stdout",
     "output_type": "stream",
     "text": [
      "Requirement already satisfied: spacy in /home/shivanshu/anaconda3/lib/python3.12/site-packages (3.7.5)\n",
      "Requirement already satisfied: spacy-legacy<3.1.0,>=3.0.11 in /home/shivanshu/anaconda3/lib/python3.12/site-packages (from spacy) (3.0.12)\n",
      "Requirement already satisfied: spacy-loggers<2.0.0,>=1.0.0 in /home/shivanshu/anaconda3/lib/python3.12/site-packages (from spacy) (1.0.5)\n",
      "Requirement already satisfied: murmurhash<1.1.0,>=0.28.0 in /home/shivanshu/anaconda3/lib/python3.12/site-packages (from spacy) (1.0.10)\n",
      "Requirement already satisfied: cymem<2.1.0,>=2.0.2 in /home/shivanshu/anaconda3/lib/python3.12/site-packages (from spacy) (2.0.8)\n",
      "Requirement already satisfied: preshed<3.1.0,>=3.0.2 in /home/shivanshu/anaconda3/lib/python3.12/site-packages (from spacy) (3.0.9)\n",
      "Requirement already satisfied: thinc<8.3.0,>=8.2.2 in /home/shivanshu/anaconda3/lib/python3.12/site-packages (from spacy) (8.2.5)\n",
      "Requirement already satisfied: wasabi<1.2.0,>=0.9.1 in /home/shivanshu/anaconda3/lib/python3.12/site-packages (from spacy) (1.1.3)\n",
      "Requirement already satisfied: srsly<3.0.0,>=2.4.3 in /home/shivanshu/anaconda3/lib/python3.12/site-packages (from spacy) (2.4.8)\n",
      "Requirement already satisfied: catalogue<2.1.0,>=2.0.6 in /home/shivanshu/anaconda3/lib/python3.12/site-packages (from spacy) (2.0.10)\n",
      "Requirement already satisfied: weasel<0.5.0,>=0.1.0 in /home/shivanshu/anaconda3/lib/python3.12/site-packages (from spacy) (0.4.1)\n",
      "Requirement already satisfied: typer<1.0.0,>=0.3.0 in /home/shivanshu/anaconda3/lib/python3.12/site-packages (from spacy) (0.13.0)\n",
      "Requirement already satisfied: tqdm<5.0.0,>=4.38.0 in /home/shivanshu/anaconda3/lib/python3.12/site-packages (from spacy) (4.66.5)\n",
      "Requirement already satisfied: requests<3.0.0,>=2.13.0 in /home/shivanshu/anaconda3/lib/python3.12/site-packages (from spacy) (2.32.3)\n",
      "Requirement already satisfied: pydantic!=1.8,!=1.8.1,<3.0.0,>=1.7.4 in /home/shivanshu/anaconda3/lib/python3.12/site-packages (from spacy) (2.8.2)\n",
      "Requirement already satisfied: jinja2 in /home/shivanshu/anaconda3/lib/python3.12/site-packages (from spacy) (3.1.4)\n",
      "Requirement already satisfied: setuptools in /home/shivanshu/anaconda3/lib/python3.12/site-packages (from spacy) (75.1.0)\n",
      "Requirement already satisfied: packaging>=20.0 in /home/shivanshu/anaconda3/lib/python3.12/site-packages (from spacy) (24.1)\n",
      "Requirement already satisfied: langcodes<4.0.0,>=3.2.0 in /home/shivanshu/anaconda3/lib/python3.12/site-packages (from spacy) (3.4.1)\n",
      "Requirement already satisfied: numpy>=1.19.0 in /home/shivanshu/anaconda3/lib/python3.12/site-packages (from spacy) (1.26.4)\n",
      "Requirement already satisfied: language-data>=1.2 in /home/shivanshu/anaconda3/lib/python3.12/site-packages (from langcodes<4.0.0,>=3.2.0->spacy) (1.2.0)\n",
      "Requirement already satisfied: annotated-types>=0.4.0 in /home/shivanshu/anaconda3/lib/python3.12/site-packages (from pydantic!=1.8,!=1.8.1,<3.0.0,>=1.7.4->spacy) (0.6.0)\n",
      "Requirement already satisfied: pydantic-core==2.20.1 in /home/shivanshu/anaconda3/lib/python3.12/site-packages (from pydantic!=1.8,!=1.8.1,<3.0.0,>=1.7.4->spacy) (2.20.1)\n",
      "Requirement already satisfied: typing-extensions>=4.6.1 in /home/shivanshu/anaconda3/lib/python3.12/site-packages (from pydantic!=1.8,!=1.8.1,<3.0.0,>=1.7.4->spacy) (4.11.0)\n",
      "Requirement already satisfied: charset-normalizer<4,>=2 in /home/shivanshu/anaconda3/lib/python3.12/site-packages (from requests<3.0.0,>=2.13.0->spacy) (3.3.2)\n",
      "Requirement already satisfied: idna<4,>=2.5 in /home/shivanshu/anaconda3/lib/python3.12/site-packages (from requests<3.0.0,>=2.13.0->spacy) (3.7)\n",
      "Requirement already satisfied: urllib3<3,>=1.21.1 in /home/shivanshu/anaconda3/lib/python3.12/site-packages (from requests<3.0.0,>=2.13.0->spacy) (2.2.3)\n",
      "Requirement already satisfied: certifi>=2017.4.17 in /home/shivanshu/anaconda3/lib/python3.12/site-packages (from requests<3.0.0,>=2.13.0->spacy) (2024.8.30)\n",
      "Requirement already satisfied: blis<0.8.0,>=0.7.8 in /home/shivanshu/anaconda3/lib/python3.12/site-packages (from thinc<8.3.0,>=8.2.2->spacy) (0.7.11)\n",
      "Requirement already satisfied: confection<1.0.0,>=0.0.1 in /home/shivanshu/anaconda3/lib/python3.12/site-packages (from thinc<8.3.0,>=8.2.2->spacy) (0.1.5)\n",
      "Requirement already satisfied: click>=8.0.0 in /home/shivanshu/anaconda3/lib/python3.12/site-packages (from typer<1.0.0,>=0.3.0->spacy) (8.1.7)\n",
      "Requirement already satisfied: shellingham>=1.3.0 in /home/shivanshu/anaconda3/lib/python3.12/site-packages (from typer<1.0.0,>=0.3.0->spacy) (1.5.4)\n",
      "Requirement already satisfied: rich>=10.11.0 in /home/shivanshu/anaconda3/lib/python3.12/site-packages (from typer<1.0.0,>=0.3.0->spacy) (13.3.5)\n",
      "Requirement already satisfied: cloudpathlib<1.0.0,>=0.7.0 in /home/shivanshu/anaconda3/lib/python3.12/site-packages (from weasel<0.5.0,>=0.1.0->spacy) (0.20.0)\n",
      "Requirement already satisfied: smart-open<8.0.0,>=5.2.1 in /home/shivanshu/anaconda3/lib/python3.12/site-packages (from weasel<0.5.0,>=0.1.0->spacy) (5.2.1)\n",
      "Requirement already satisfied: MarkupSafe>=2.0 in /home/shivanshu/anaconda3/lib/python3.12/site-packages (from jinja2->spacy) (2.1.3)\n",
      "Requirement already satisfied: marisa-trie>=0.7.7 in /home/shivanshu/anaconda3/lib/python3.12/site-packages (from language-data>=1.2->langcodes<4.0.0,>=3.2.0->spacy) (1.2.1)\n",
      "Requirement already satisfied: markdown-it-py<3.0.0,>=2.2.0 in /home/shivanshu/anaconda3/lib/python3.12/site-packages (from rich>=10.11.0->typer<1.0.0,>=0.3.0->spacy) (2.2.0)\n",
      "Requirement already satisfied: pygments<3.0.0,>=2.13.0 in /home/shivanshu/anaconda3/lib/python3.12/site-packages (from rich>=10.11.0->typer<1.0.0,>=0.3.0->spacy) (2.15.1)\n",
      "Requirement already satisfied: mdurl~=0.1 in /home/shivanshu/anaconda3/lib/python3.12/site-packages (from markdown-it-py<3.0.0,>=2.2.0->rich>=10.11.0->typer<1.0.0,>=0.3.0->spacy) (0.1.0)\n",
      "Requirement already satisfied: scispacy in /home/shivanshu/anaconda3/lib/python3.12/site-packages (0.5.5)\n",
      "Requirement already satisfied: spacy<3.8.0,>=3.7.0 in /home/shivanshu/anaconda3/lib/python3.12/site-packages (from scispacy) (3.7.5)\n",
      "Requirement already satisfied: scipy in /home/shivanshu/anaconda3/lib/python3.12/site-packages (from scispacy) (1.13.1)\n",
      "Requirement already satisfied: requests<3.0.0,>=2.0.0 in /home/shivanshu/anaconda3/lib/python3.12/site-packages (from scispacy) (2.32.3)\n",
      "Requirement already satisfied: conllu in /home/shivanshu/anaconda3/lib/python3.12/site-packages (from scispacy) (6.0.0)\n",
      "Requirement already satisfied: numpy in /home/shivanshu/anaconda3/lib/python3.12/site-packages (from scispacy) (1.26.4)\n",
      "Requirement already satisfied: joblib in /home/shivanshu/anaconda3/lib/python3.12/site-packages (from scispacy) (1.4.2)\n",
      "Requirement already satisfied: scikit-learn>=0.20.3 in /home/shivanshu/anaconda3/lib/python3.12/site-packages (from scispacy) (1.4.2)\n",
      "Requirement already satisfied: pysbd in /home/shivanshu/anaconda3/lib/python3.12/site-packages (from scispacy) (0.3.4)\n",
      "Requirement already satisfied: nmslib-metabrainz==2.1.3 in /home/shivanshu/anaconda3/lib/python3.12/site-packages (from scispacy) (2.1.3)\n",
      "Requirement already satisfied: pybind11>=2.2.3 in /home/shivanshu/anaconda3/lib/python3.12/site-packages (from nmslib-metabrainz==2.1.3->scispacy) (2.13.6)\n",
      "Requirement already satisfied: psutil in /home/shivanshu/anaconda3/lib/python3.12/site-packages (from nmslib-metabrainz==2.1.3->scispacy) (5.9.0)\n",
      "Requirement already satisfied: charset-normalizer<4,>=2 in /home/shivanshu/anaconda3/lib/python3.12/site-packages (from requests<3.0.0,>=2.0.0->scispacy) (3.3.2)\n",
      "Requirement already satisfied: idna<4,>=2.5 in /home/shivanshu/anaconda3/lib/python3.12/site-packages (from requests<3.0.0,>=2.0.0->scispacy) (3.7)\n",
      "Requirement already satisfied: urllib3<3,>=1.21.1 in /home/shivanshu/anaconda3/lib/python3.12/site-packages (from requests<3.0.0,>=2.0.0->scispacy) (2.2.3)\n",
      "Requirement already satisfied: certifi>=2017.4.17 in /home/shivanshu/anaconda3/lib/python3.12/site-packages (from requests<3.0.0,>=2.0.0->scispacy) (2024.8.30)\n",
      "Requirement already satisfied: threadpoolctl>=2.0.0 in /home/shivanshu/anaconda3/lib/python3.12/site-packages (from scikit-learn>=0.20.3->scispacy) (2.2.0)\n",
      "Requirement already satisfied: spacy-legacy<3.1.0,>=3.0.11 in /home/shivanshu/anaconda3/lib/python3.12/site-packages (from spacy<3.8.0,>=3.7.0->scispacy) (3.0.12)\n",
      "Requirement already satisfied: spacy-loggers<2.0.0,>=1.0.0 in /home/shivanshu/anaconda3/lib/python3.12/site-packages (from spacy<3.8.0,>=3.7.0->scispacy) (1.0.5)\n",
      "Requirement already satisfied: murmurhash<1.1.0,>=0.28.0 in /home/shivanshu/anaconda3/lib/python3.12/site-packages (from spacy<3.8.0,>=3.7.0->scispacy) (1.0.10)\n",
      "Requirement already satisfied: cymem<2.1.0,>=2.0.2 in /home/shivanshu/anaconda3/lib/python3.12/site-packages (from spacy<3.8.0,>=3.7.0->scispacy) (2.0.8)\n",
      "Requirement already satisfied: preshed<3.1.0,>=3.0.2 in /home/shivanshu/anaconda3/lib/python3.12/site-packages (from spacy<3.8.0,>=3.7.0->scispacy) (3.0.9)\n",
      "Requirement already satisfied: thinc<8.3.0,>=8.2.2 in /home/shivanshu/anaconda3/lib/python3.12/site-packages (from spacy<3.8.0,>=3.7.0->scispacy) (8.2.5)\n",
      "Requirement already satisfied: wasabi<1.2.0,>=0.9.1 in /home/shivanshu/anaconda3/lib/python3.12/site-packages (from spacy<3.8.0,>=3.7.0->scispacy) (1.1.3)\n",
      "Requirement already satisfied: srsly<3.0.0,>=2.4.3 in /home/shivanshu/anaconda3/lib/python3.12/site-packages (from spacy<3.8.0,>=3.7.0->scispacy) (2.4.8)\n",
      "Requirement already satisfied: catalogue<2.1.0,>=2.0.6 in /home/shivanshu/anaconda3/lib/python3.12/site-packages (from spacy<3.8.0,>=3.7.0->scispacy) (2.0.10)\n",
      "Requirement already satisfied: weasel<0.5.0,>=0.1.0 in /home/shivanshu/anaconda3/lib/python3.12/site-packages (from spacy<3.8.0,>=3.7.0->scispacy) (0.4.1)\n",
      "Requirement already satisfied: typer<1.0.0,>=0.3.0 in /home/shivanshu/anaconda3/lib/python3.12/site-packages (from spacy<3.8.0,>=3.7.0->scispacy) (0.13.0)\n",
      "Requirement already satisfied: tqdm<5.0.0,>=4.38.0 in /home/shivanshu/anaconda3/lib/python3.12/site-packages (from spacy<3.8.0,>=3.7.0->scispacy) (4.66.5)\n",
      "Requirement already satisfied: pydantic!=1.8,!=1.8.1,<3.0.0,>=1.7.4 in /home/shivanshu/anaconda3/lib/python3.12/site-packages (from spacy<3.8.0,>=3.7.0->scispacy) (2.8.2)\n",
      "Requirement already satisfied: jinja2 in /home/shivanshu/anaconda3/lib/python3.12/site-packages (from spacy<3.8.0,>=3.7.0->scispacy) (3.1.4)\n",
      "Requirement already satisfied: setuptools in /home/shivanshu/anaconda3/lib/python3.12/site-packages (from spacy<3.8.0,>=3.7.0->scispacy) (75.1.0)\n",
      "Requirement already satisfied: packaging>=20.0 in /home/shivanshu/anaconda3/lib/python3.12/site-packages (from spacy<3.8.0,>=3.7.0->scispacy) (24.1)\n",
      "Requirement already satisfied: langcodes<4.0.0,>=3.2.0 in /home/shivanshu/anaconda3/lib/python3.12/site-packages (from spacy<3.8.0,>=3.7.0->scispacy) (3.4.1)\n",
      "Requirement already satisfied: language-data>=1.2 in /home/shivanshu/anaconda3/lib/python3.12/site-packages (from langcodes<4.0.0,>=3.2.0->spacy<3.8.0,>=3.7.0->scispacy) (1.2.0)\n",
      "Requirement already satisfied: annotated-types>=0.4.0 in /home/shivanshu/anaconda3/lib/python3.12/site-packages (from pydantic!=1.8,!=1.8.1,<3.0.0,>=1.7.4->spacy<3.8.0,>=3.7.0->scispacy) (0.6.0)\n",
      "Requirement already satisfied: pydantic-core==2.20.1 in /home/shivanshu/anaconda3/lib/python3.12/site-packages (from pydantic!=1.8,!=1.8.1,<3.0.0,>=1.7.4->spacy<3.8.0,>=3.7.0->scispacy) (2.20.1)\n",
      "Requirement already satisfied: typing-extensions>=4.6.1 in /home/shivanshu/anaconda3/lib/python3.12/site-packages (from pydantic!=1.8,!=1.8.1,<3.0.0,>=1.7.4->spacy<3.8.0,>=3.7.0->scispacy) (4.11.0)\n",
      "Requirement already satisfied: blis<0.8.0,>=0.7.8 in /home/shivanshu/anaconda3/lib/python3.12/site-packages (from thinc<8.3.0,>=8.2.2->spacy<3.8.0,>=3.7.0->scispacy) (0.7.11)\n",
      "Requirement already satisfied: confection<1.0.0,>=0.0.1 in /home/shivanshu/anaconda3/lib/python3.12/site-packages (from thinc<8.3.0,>=8.2.2->spacy<3.8.0,>=3.7.0->scispacy) (0.1.5)\n",
      "Requirement already satisfied: click>=8.0.0 in /home/shivanshu/anaconda3/lib/python3.12/site-packages (from typer<1.0.0,>=0.3.0->spacy<3.8.0,>=3.7.0->scispacy) (8.1.7)\n",
      "Requirement already satisfied: shellingham>=1.3.0 in /home/shivanshu/anaconda3/lib/python3.12/site-packages (from typer<1.0.0,>=0.3.0->spacy<3.8.0,>=3.7.0->scispacy) (1.5.4)\n",
      "Requirement already satisfied: rich>=10.11.0 in /home/shivanshu/anaconda3/lib/python3.12/site-packages (from typer<1.0.0,>=0.3.0->spacy<3.8.0,>=3.7.0->scispacy) (13.3.5)\n",
      "Requirement already satisfied: cloudpathlib<1.0.0,>=0.7.0 in /home/shivanshu/anaconda3/lib/python3.12/site-packages (from weasel<0.5.0,>=0.1.0->spacy<3.8.0,>=3.7.0->scispacy) (0.20.0)\n",
      "Requirement already satisfied: smart-open<8.0.0,>=5.2.1 in /home/shivanshu/anaconda3/lib/python3.12/site-packages (from weasel<0.5.0,>=0.1.0->spacy<3.8.0,>=3.7.0->scispacy) (5.2.1)\n",
      "Requirement already satisfied: MarkupSafe>=2.0 in /home/shivanshu/anaconda3/lib/python3.12/site-packages (from jinja2->spacy<3.8.0,>=3.7.0->scispacy) (2.1.3)\n",
      "Requirement already satisfied: marisa-trie>=0.7.7 in /home/shivanshu/anaconda3/lib/python3.12/site-packages (from language-data>=1.2->langcodes<4.0.0,>=3.2.0->spacy<3.8.0,>=3.7.0->scispacy) (1.2.1)\n",
      "Requirement already satisfied: markdown-it-py<3.0.0,>=2.2.0 in /home/shivanshu/anaconda3/lib/python3.12/site-packages (from rich>=10.11.0->typer<1.0.0,>=0.3.0->spacy<3.8.0,>=3.7.0->scispacy) (2.2.0)\n",
      "Requirement already satisfied: pygments<3.0.0,>=2.13.0 in /home/shivanshu/anaconda3/lib/python3.12/site-packages (from rich>=10.11.0->typer<1.0.0,>=0.3.0->spacy<3.8.0,>=3.7.0->scispacy) (2.15.1)\n",
      "Requirement already satisfied: mdurl~=0.1 in /home/shivanshu/anaconda3/lib/python3.12/site-packages (from markdown-it-py<3.0.0,>=2.2.0->rich>=10.11.0->typer<1.0.0,>=0.3.0->spacy<3.8.0,>=3.7.0->scispacy) (0.1.0)\n",
      "Collecting https://s3-us-west-2.amazonaws.com/ai2-s2-scispacy/releases/v0.5.4/en_ner_bc5cdr_md-0.5.4.tar.gz\n",
      "  Downloading https://s3-us-west-2.amazonaws.com/ai2-s2-scispacy/releases/v0.5.4/en_ner_bc5cdr_md-0.5.4.tar.gz (119.8 MB)\n",
      "\u001b[2K     \u001b[38;2;114;156;31m━━━━━━━━━━━━━━━━━━━━━━━━━━━━━━━━━━━━━━━\u001b[0m \u001b[32m119.8/119.8 MB\u001b[0m \u001b[31m3.8 MB/s\u001b[0m eta \u001b[36m0:00:00\u001b[0mm eta \u001b[36m0:00:01\u001b[0m[36m0:00:01\u001b[0m\n",
      "\u001b[?25h  Preparing metadata (setup.py) ... \u001b[?25ldone\n",
      "\u001b[?25hRequirement already satisfied: spacy<3.8.0,>=3.7.4 in /home/shivanshu/anaconda3/lib/python3.12/site-packages (from en_ner_bc5cdr_md==0.5.4) (3.7.5)\n",
      "Requirement already satisfied: spacy-legacy<3.1.0,>=3.0.11 in /home/shivanshu/anaconda3/lib/python3.12/site-packages (from spacy<3.8.0,>=3.7.4->en_ner_bc5cdr_md==0.5.4) (3.0.12)\n",
      "Requirement already satisfied: spacy-loggers<2.0.0,>=1.0.0 in /home/shivanshu/anaconda3/lib/python3.12/site-packages (from spacy<3.8.0,>=3.7.4->en_ner_bc5cdr_md==0.5.4) (1.0.5)\n",
      "Requirement already satisfied: murmurhash<1.1.0,>=0.28.0 in /home/shivanshu/anaconda3/lib/python3.12/site-packages (from spacy<3.8.0,>=3.7.4->en_ner_bc5cdr_md==0.5.4) (1.0.10)\n",
      "Requirement already satisfied: cymem<2.1.0,>=2.0.2 in /home/shivanshu/anaconda3/lib/python3.12/site-packages (from spacy<3.8.0,>=3.7.4->en_ner_bc5cdr_md==0.5.4) (2.0.8)\n",
      "Requirement already satisfied: preshed<3.1.0,>=3.0.2 in /home/shivanshu/anaconda3/lib/python3.12/site-packages (from spacy<3.8.0,>=3.7.4->en_ner_bc5cdr_md==0.5.4) (3.0.9)\n",
      "Requirement already satisfied: thinc<8.3.0,>=8.2.2 in /home/shivanshu/anaconda3/lib/python3.12/site-packages (from spacy<3.8.0,>=3.7.4->en_ner_bc5cdr_md==0.5.4) (8.2.5)\n",
      "Requirement already satisfied: wasabi<1.2.0,>=0.9.1 in /home/shivanshu/anaconda3/lib/python3.12/site-packages (from spacy<3.8.0,>=3.7.4->en_ner_bc5cdr_md==0.5.4) (1.1.3)\n",
      "Requirement already satisfied: srsly<3.0.0,>=2.4.3 in /home/shivanshu/anaconda3/lib/python3.12/site-packages (from spacy<3.8.0,>=3.7.4->en_ner_bc5cdr_md==0.5.4) (2.4.8)\n",
      "Requirement already satisfied: catalogue<2.1.0,>=2.0.6 in /home/shivanshu/anaconda3/lib/python3.12/site-packages (from spacy<3.8.0,>=3.7.4->en_ner_bc5cdr_md==0.5.4) (2.0.10)\n",
      "Requirement already satisfied: weasel<0.5.0,>=0.1.0 in /home/shivanshu/anaconda3/lib/python3.12/site-packages (from spacy<3.8.0,>=3.7.4->en_ner_bc5cdr_md==0.5.4) (0.4.1)\n",
      "Requirement already satisfied: typer<1.0.0,>=0.3.0 in /home/shivanshu/anaconda3/lib/python3.12/site-packages (from spacy<3.8.0,>=3.7.4->en_ner_bc5cdr_md==0.5.4) (0.13.0)\n",
      "Requirement already satisfied: tqdm<5.0.0,>=4.38.0 in /home/shivanshu/anaconda3/lib/python3.12/site-packages (from spacy<3.8.0,>=3.7.4->en_ner_bc5cdr_md==0.5.4) (4.66.5)\n",
      "Requirement already satisfied: requests<3.0.0,>=2.13.0 in /home/shivanshu/anaconda3/lib/python3.12/site-packages (from spacy<3.8.0,>=3.7.4->en_ner_bc5cdr_md==0.5.4) (2.32.3)\n",
      "Requirement already satisfied: pydantic!=1.8,!=1.8.1,<3.0.0,>=1.7.4 in /home/shivanshu/anaconda3/lib/python3.12/site-packages (from spacy<3.8.0,>=3.7.4->en_ner_bc5cdr_md==0.5.4) (2.8.2)\n",
      "Requirement already satisfied: jinja2 in /home/shivanshu/anaconda3/lib/python3.12/site-packages (from spacy<3.8.0,>=3.7.4->en_ner_bc5cdr_md==0.5.4) (3.1.4)\n",
      "Requirement already satisfied: setuptools in /home/shivanshu/anaconda3/lib/python3.12/site-packages (from spacy<3.8.0,>=3.7.4->en_ner_bc5cdr_md==0.5.4) (75.1.0)\n",
      "Requirement already satisfied: packaging>=20.0 in /home/shivanshu/anaconda3/lib/python3.12/site-packages (from spacy<3.8.0,>=3.7.4->en_ner_bc5cdr_md==0.5.4) (24.1)\n",
      "Requirement already satisfied: langcodes<4.0.0,>=3.2.0 in /home/shivanshu/anaconda3/lib/python3.12/site-packages (from spacy<3.8.0,>=3.7.4->en_ner_bc5cdr_md==0.5.4) (3.4.1)\n",
      "Requirement already satisfied: numpy>=1.19.0 in /home/shivanshu/anaconda3/lib/python3.12/site-packages (from spacy<3.8.0,>=3.7.4->en_ner_bc5cdr_md==0.5.4) (1.26.4)\n",
      "Requirement already satisfied: language-data>=1.2 in /home/shivanshu/anaconda3/lib/python3.12/site-packages (from langcodes<4.0.0,>=3.2.0->spacy<3.8.0,>=3.7.4->en_ner_bc5cdr_md==0.5.4) (1.2.0)\n",
      "Requirement already satisfied: annotated-types>=0.4.0 in /home/shivanshu/anaconda3/lib/python3.12/site-packages (from pydantic!=1.8,!=1.8.1,<3.0.0,>=1.7.4->spacy<3.8.0,>=3.7.4->en_ner_bc5cdr_md==0.5.4) (0.6.0)\n",
      "Requirement already satisfied: pydantic-core==2.20.1 in /home/shivanshu/anaconda3/lib/python3.12/site-packages (from pydantic!=1.8,!=1.8.1,<3.0.0,>=1.7.4->spacy<3.8.0,>=3.7.4->en_ner_bc5cdr_md==0.5.4) (2.20.1)\n",
      "Requirement already satisfied: typing-extensions>=4.6.1 in /home/shivanshu/anaconda3/lib/python3.12/site-packages (from pydantic!=1.8,!=1.8.1,<3.0.0,>=1.7.4->spacy<3.8.0,>=3.7.4->en_ner_bc5cdr_md==0.5.4) (4.11.0)\n",
      "Requirement already satisfied: charset-normalizer<4,>=2 in /home/shivanshu/anaconda3/lib/python3.12/site-packages (from requests<3.0.0,>=2.13.0->spacy<3.8.0,>=3.7.4->en_ner_bc5cdr_md==0.5.4) (3.3.2)\n",
      "Requirement already satisfied: idna<4,>=2.5 in /home/shivanshu/anaconda3/lib/python3.12/site-packages (from requests<3.0.0,>=2.13.0->spacy<3.8.0,>=3.7.4->en_ner_bc5cdr_md==0.5.4) (3.7)\n",
      "Requirement already satisfied: urllib3<3,>=1.21.1 in /home/shivanshu/anaconda3/lib/python3.12/site-packages (from requests<3.0.0,>=2.13.0->spacy<3.8.0,>=3.7.4->en_ner_bc5cdr_md==0.5.4) (2.2.3)\n",
      "Requirement already satisfied: certifi>=2017.4.17 in /home/shivanshu/anaconda3/lib/python3.12/site-packages (from requests<3.0.0,>=2.13.0->spacy<3.8.0,>=3.7.4->en_ner_bc5cdr_md==0.5.4) (2024.8.30)\n",
      "Requirement already satisfied: blis<0.8.0,>=0.7.8 in /home/shivanshu/anaconda3/lib/python3.12/site-packages (from thinc<8.3.0,>=8.2.2->spacy<3.8.0,>=3.7.4->en_ner_bc5cdr_md==0.5.4) (0.7.11)\n",
      "Requirement already satisfied: confection<1.0.0,>=0.0.1 in /home/shivanshu/anaconda3/lib/python3.12/site-packages (from thinc<8.3.0,>=8.2.2->spacy<3.8.0,>=3.7.4->en_ner_bc5cdr_md==0.5.4) (0.1.5)\n",
      "Requirement already satisfied: click>=8.0.0 in /home/shivanshu/anaconda3/lib/python3.12/site-packages (from typer<1.0.0,>=0.3.0->spacy<3.8.0,>=3.7.4->en_ner_bc5cdr_md==0.5.4) (8.1.7)\n",
      "Requirement already satisfied: shellingham>=1.3.0 in /home/shivanshu/anaconda3/lib/python3.12/site-packages (from typer<1.0.0,>=0.3.0->spacy<3.8.0,>=3.7.4->en_ner_bc5cdr_md==0.5.4) (1.5.4)\n",
      "Requirement already satisfied: rich>=10.11.0 in /home/shivanshu/anaconda3/lib/python3.12/site-packages (from typer<1.0.0,>=0.3.0->spacy<3.8.0,>=3.7.4->en_ner_bc5cdr_md==0.5.4) (13.3.5)\n",
      "Requirement already satisfied: cloudpathlib<1.0.0,>=0.7.0 in /home/shivanshu/anaconda3/lib/python3.12/site-packages (from weasel<0.5.0,>=0.1.0->spacy<3.8.0,>=3.7.4->en_ner_bc5cdr_md==0.5.4) (0.20.0)\n",
      "Requirement already satisfied: smart-open<8.0.0,>=5.2.1 in /home/shivanshu/anaconda3/lib/python3.12/site-packages (from weasel<0.5.0,>=0.1.0->spacy<3.8.0,>=3.7.4->en_ner_bc5cdr_md==0.5.4) (5.2.1)\n",
      "Requirement already satisfied: MarkupSafe>=2.0 in /home/shivanshu/anaconda3/lib/python3.12/site-packages (from jinja2->spacy<3.8.0,>=3.7.4->en_ner_bc5cdr_md==0.5.4) (2.1.3)\n",
      "Requirement already satisfied: marisa-trie>=0.7.7 in /home/shivanshu/anaconda3/lib/python3.12/site-packages (from language-data>=1.2->langcodes<4.0.0,>=3.2.0->spacy<3.8.0,>=3.7.4->en_ner_bc5cdr_md==0.5.4) (1.2.1)\n",
      "Requirement already satisfied: markdown-it-py<3.0.0,>=2.2.0 in /home/shivanshu/anaconda3/lib/python3.12/site-packages (from rich>=10.11.0->typer<1.0.0,>=0.3.0->spacy<3.8.0,>=3.7.4->en_ner_bc5cdr_md==0.5.4) (2.2.0)\n",
      "Requirement already satisfied: pygments<3.0.0,>=2.13.0 in /home/shivanshu/anaconda3/lib/python3.12/site-packages (from rich>=10.11.0->typer<1.0.0,>=0.3.0->spacy<3.8.0,>=3.7.4->en_ner_bc5cdr_md==0.5.4) (2.15.1)\n",
      "Requirement already satisfied: mdurl~=0.1 in /home/shivanshu/anaconda3/lib/python3.12/site-packages (from markdown-it-py<3.0.0,>=2.2.0->rich>=10.11.0->typer<1.0.0,>=0.3.0->spacy<3.8.0,>=3.7.4->en_ner_bc5cdr_md==0.5.4) (0.1.0)\n",
      "Requirement already satisfied: wikipedia in /home/shivanshu/anaconda3/lib/python3.12/site-packages (1.4.0)\n",
      "Requirement already satisfied: beautifulsoup4 in /home/shivanshu/anaconda3/lib/python3.12/site-packages (from wikipedia) (4.12.3)\n",
      "Requirement already satisfied: requests<3.0.0,>=2.0.0 in /home/shivanshu/anaconda3/lib/python3.12/site-packages (from wikipedia) (2.32.3)\n",
      "Requirement already satisfied: charset-normalizer<4,>=2 in /home/shivanshu/anaconda3/lib/python3.12/site-packages (from requests<3.0.0,>=2.0.0->wikipedia) (3.3.2)\n",
      "Requirement already satisfied: idna<4,>=2.5 in /home/shivanshu/anaconda3/lib/python3.12/site-packages (from requests<3.0.0,>=2.0.0->wikipedia) (3.7)\n",
      "Requirement already satisfied: urllib3<3,>=1.21.1 in /home/shivanshu/anaconda3/lib/python3.12/site-packages (from requests<3.0.0,>=2.0.0->wikipedia) (2.2.3)\n",
      "Requirement already satisfied: certifi>=2017.4.17 in /home/shivanshu/anaconda3/lib/python3.12/site-packages (from requests<3.0.0,>=2.0.0->wikipedia) (2024.8.30)\n",
      "Requirement already satisfied: soupsieve>1.2 in /home/shivanshu/anaconda3/lib/python3.12/site-packages (from beautifulsoup4->wikipedia) (2.5)\n",
      "Requirement already satisfied: nltk in /home/shivanshu/anaconda3/lib/python3.12/site-packages (3.8.1)\n",
      "Requirement already satisfied: click in /home/shivanshu/anaconda3/lib/python3.12/site-packages (from nltk) (8.1.7)\n",
      "Requirement already satisfied: joblib in /home/shivanshu/anaconda3/lib/python3.12/site-packages (from nltk) (1.4.2)\n",
      "Requirement already satisfied: regex>=2021.8.3 in /home/shivanshu/anaconda3/lib/python3.12/site-packages (from nltk) (2023.10.3)\n",
      "Requirement already satisfied: tqdm in /home/shivanshu/anaconda3/lib/python3.12/site-packages (from nltk) (4.66.5)\n"
     ]
    }
   ],
   "source": [
    "!pip install spacy\n",
    "!pip install scispacy\n",
    "!pip install https://s3-us-west-2.amazonaws.com/ai2-s2-scispacy/releases/v0.5.4/en_ner_bc5cdr_md-0.5.4.tar.gz\n",
    "!pip install wikipedia\n",
    "!pip install nltk"
   ]
  },
  {
   "cell_type": "code",
   "execution_count": 2,
   "metadata": {
    "colab": {
     "base_uri": "https://localhost:8080/"
    },
    "id": "cYKcr1jOWuNv",
    "outputId": "6f91330a-0a1c-4bb4-9fef-aee53e0f68e9"
   },
   "outputs": [
    {
     "name": "stderr",
     "output_type": "stream",
     "text": [
      "[nltk_data] Downloading package wordnet to\n",
      "[nltk_data]     /home/shivanshu/nltk_data...\n",
      "[nltk_data]   Package wordnet is already up-to-date!\n"
     ]
    },
    {
     "data": {
      "text/plain": [
       "True"
      ]
     },
     "execution_count": 2,
     "metadata": {},
     "output_type": "execute_result"
    }
   ],
   "source": [
    "import nltk\n",
    "nltk.download('wordnet')"
   ]
  },
  {
   "cell_type": "code",
   "execution_count": 3,
   "metadata": {
    "id": "h8GfWhQRTgtk"
   },
   "outputs": [],
   "source": [
    "import spacy\n",
    "import scispacy\n",
    "from spacy import displacy\n",
    "import wikipedia\n",
    "from nltk.corpus import wordnet"
   ]
  },
  {
   "cell_type": "code",
   "execution_count": 4,
   "metadata": {
    "colab": {
     "base_uri": "https://localhost:8080/"
    },
    "id": "Ycmx_nsiWmw4",
    "outputId": "a15b3ebe-bfd7-4f15-84e5-8829d93940d4"
   },
   "outputs": [
    {
     "name": "stderr",
     "output_type": "stream",
     "text": [
      "/home/shivanshu/anaconda3/lib/python3.12/site-packages/spacy/language.py:2195: FutureWarning: Possible set union at position 6328\n",
      "  deserializers[\"tokenizer\"] = lambda p: self.tokenizer.from_disk(  # type: ignore[union-attr]\n"
     ]
    },
    {
     "data": {
      "text/plain": [
       "['tok2vec', 'tagger', 'attribute_ruler', 'lemmatizer', 'parser', 'ner']"
      ]
     },
     "execution_count": 4,
     "metadata": {},
     "output_type": "execute_result"
    }
   ],
   "source": [
    "sci_nlp = spacy.load('en_ner_bc5cdr_md')\n",
    "\n",
    "sci_nlp.component_names"
   ]
  },
  {
   "cell_type": "code",
   "execution_count": 5,
   "metadata": {
    "colab": {
     "base_uri": "https://localhost:8080/"
    },
    "id": "oDafKKgFeHYn",
    "outputId": "323f2751-fc07-4b9b-ca6d-0bbb79d24f4e"
   },
   "outputs": [
    {
     "data": {
      "text/plain": [
       "('CHEMICAL', 'DISEASE')"
      ]
     },
     "execution_count": 5,
     "metadata": {},
     "output_type": "execute_result"
    }
   ],
   "source": [
    "sci_nlp.get_pipe('ner').labels"
   ]
  },
  {
   "cell_type": "code",
   "execution_count": 6,
   "metadata": {
    "colab": {
     "base_uri": "https://localhost:8080/"
    },
    "id": "KCY7gpxheKX6",
    "outputId": "982b947f-da1c-4e9a-b8ea-233f1b8fd964"
   },
   "outputs": [
    {
     "ename": "FileNotFoundError",
     "evalue": "[Errno 2] No such file or directory: './summary/summary_0.txt'",
     "output_type": "error",
     "traceback": [
      "\u001b[0;31m---------------------------------------------------------------------------\u001b[0m",
      "\u001b[0;31mFileNotFoundError\u001b[0m                         Traceback (most recent call last)",
      "Cell \u001b[0;32mIn[6], line 1\u001b[0m\n\u001b[0;32m----> 1\u001b[0m \u001b[38;5;28;01mwith\u001b[39;00m \u001b[38;5;28mopen\u001b[39m(\u001b[38;5;124m\"\u001b[39m\u001b[38;5;124m./summary/summary_0.txt\u001b[39m\u001b[38;5;124m\"\u001b[39m, \u001b[38;5;124m\"\u001b[39m\u001b[38;5;124mr\u001b[39m\u001b[38;5;124m\"\u001b[39m) \u001b[38;5;28;01mas\u001b[39;00m file:\n\u001b[1;32m      2\u001b[0m     text \u001b[38;5;241m=\u001b[39m file\u001b[38;5;241m.\u001b[39mread()\n\u001b[1;32m      4\u001b[0m \u001b[38;5;28mprint\u001b[39m(text)\n",
      "File \u001b[0;32m~/anaconda3/lib/python3.12/site-packages/IPython/core/interactiveshell.py:324\u001b[0m, in \u001b[0;36m_modified_open\u001b[0;34m(file, *args, **kwargs)\u001b[0m\n\u001b[1;32m    317\u001b[0m \u001b[38;5;28;01mif\u001b[39;00m file \u001b[38;5;129;01min\u001b[39;00m {\u001b[38;5;241m0\u001b[39m, \u001b[38;5;241m1\u001b[39m, \u001b[38;5;241m2\u001b[39m}:\n\u001b[1;32m    318\u001b[0m     \u001b[38;5;28;01mraise\u001b[39;00m \u001b[38;5;167;01mValueError\u001b[39;00m(\n\u001b[1;32m    319\u001b[0m         \u001b[38;5;124mf\u001b[39m\u001b[38;5;124m\"\u001b[39m\u001b[38;5;124mIPython won\u001b[39m\u001b[38;5;124m'\u001b[39m\u001b[38;5;124mt let you open fd=\u001b[39m\u001b[38;5;132;01m{\u001b[39;00mfile\u001b[38;5;132;01m}\u001b[39;00m\u001b[38;5;124m by default \u001b[39m\u001b[38;5;124m\"\u001b[39m\n\u001b[1;32m    320\u001b[0m         \u001b[38;5;124m\"\u001b[39m\u001b[38;5;124mas it is likely to crash IPython. If you know what you are doing, \u001b[39m\u001b[38;5;124m\"\u001b[39m\n\u001b[1;32m    321\u001b[0m         \u001b[38;5;124m\"\u001b[39m\u001b[38;5;124myou can use builtins\u001b[39m\u001b[38;5;124m'\u001b[39m\u001b[38;5;124m open.\u001b[39m\u001b[38;5;124m\"\u001b[39m\n\u001b[1;32m    322\u001b[0m     )\n\u001b[0;32m--> 324\u001b[0m \u001b[38;5;28;01mreturn\u001b[39;00m io_open(file, \u001b[38;5;241m*\u001b[39margs, \u001b[38;5;241m*\u001b[39m\u001b[38;5;241m*\u001b[39mkwargs)\n",
      "\u001b[0;31mFileNotFoundError\u001b[0m: [Errno 2] No such file or directory: './summary/summary_0.txt'"
     ]
    }
   ],
   "source": [
    "with open(\"./BERT_summary/summary_0.txt\", \"r\") as file:\n",
    "    text = file.read()\n",
    "\n",
    "print(text)"
   ]
  },
  {
   "cell_type": "code",
   "execution_count": null,
   "metadata": {
    "colab": {
     "base_uri": "https://localhost:8080/"
    },
    "id": "g9HWYctPHdZ4",
    "outputId": "66c209bb-cf8e-4f75-aea0-0c92fbce17bb"
   },
   "outputs": [],
   "source": [
    "word_count = text.split()\n",
    "len(word_count)"
   ]
  },
  {
   "cell_type": "code",
   "execution_count": null,
   "metadata": {
    "id": "M7Ws65fbehCo"
   },
   "outputs": [],
   "source": [
    "docx = sci_nlp(text)"
   ]
  },
  {
   "cell_type": "code",
   "execution_count": null,
   "metadata": {
    "colab": {
     "base_uri": "https://localhost:8080/"
    },
    "id": "UDH2j6oxelSP",
    "outputId": "e8434308-6621-49df-eea2-e00184a4295a"
   },
   "outputs": [],
   "source": [
    "unique_entities = {}\n",
    "\n",
    "for ent in docx.ents:\n",
    "    entity_info = {ent.text: ent.label_}\n",
    "    unique_entities.update(entity_info)\n",
    "\n",
    "for entity, label in unique_entities.items():\n",
    "    print(f\"{entity} : {label}\")"
   ]
  },
  {
   "cell_type": "code",
   "execution_count": null,
   "metadata": {
    "colab": {
     "base_uri": "https://localhost:8080/",
     "height": 1000
    },
    "id": "asmlEAP6emvT",
    "outputId": "2324073a-6b8e-4659-dba2-014d4f1fab8e"
   },
   "outputs": [],
   "source": [
    "displacy.render(docx, style = 'ent',jupyter=True)"
   ]
  },
  {
   "cell_type": "code",
   "execution_count": null,
   "metadata": {
    "colab": {
     "base_uri": "https://localhost:8080/"
    },
    "id": "H8r0BcnCkyFx",
    "outputId": "8a9469a0-ed22-4256-ecbd-a9db77a4e530"
   },
   "outputs": [],
   "source": [
    "def get_wordnet_definition(term):\n",
    "    synsets = wordnet.synsets(term)\n",
    "    if synsets:\n",
    "        return synsets[0].definition()\n",
    "    else:\n",
    "        return \"No definition found\"\n",
    "\n",
    "def get_wikipedia_summary(term):\n",
    "    try:\n",
    "        summary = wikipedia.summary(term, sentences=1)\n",
    "        return summary\n",
    "    except wikipedia.exceptions.PageError:\n",
    "        return \"No Wikipedia page found\"\n",
    "    except wikipedia.exceptions.DisambiguationError as e:\n",
    "        return f\"Multiple entries found: {e.options[:3]}\"  # Show first 3 ambiguous options\n",
    "    except Exception as e:\n",
    "        return str(e)\n",
    "\n",
    "\n",
    "entity_meanings = {}\n",
    "\n",
    "for entity, label in unique_entities.items():\n",
    "    if ' ' in entity:\n",
    "        summary = get_wikipedia_summary(entity)\n",
    "    else:\n",
    "      summary = get_wordnet_definition(entity)\n",
    "    entity_meanings[entity] = summary\n",
    "\n",
    "for entity, meaning in entity_meanings.items():\n",
    "    print(f\"{entity} : {meaning}\")"
   ]
  },
  {
   "cell_type": "code",
   "execution_count": null,
   "metadata": {
    "id": "p-K6Jaj24yiF"
   },
   "outputs": [],
   "source": [
    "with open(\"./summary_with_meanings.txt\", \"w\") as file:\n",
    "    file.write(text)\n",
    "    file.write(\"\\n\\n\")\n",
    "\n",
    "    for entity, meaning in entity_meanings.items():\n",
    "        file.write(f\"{entity} : {meaning}\\n\")"
   ]
  },
  {
   "cell_type": "code",
   "execution_count": null,
   "metadata": {
    "id": "mj7GSW8h400s"
   },
   "outputs": [],
   "source": []
  }
 ],
 "metadata": {
  "colab": {
   "provenance": []
  },
  "kernelspec": {
   "display_name": "Python 3 (ipykernel)",
   "language": "python",
   "name": "python3"
  },
  "language_info": {
   "codemirror_mode": {
    "name": "ipython",
    "version": 3
   },
   "file_extension": ".py",
   "mimetype": "text/x-python",
   "name": "python",
   "nbconvert_exporter": "python",
   "pygments_lexer": "ipython3",
   "version": "3.12.7"
  }
 },
 "nbformat": 4,
 "nbformat_minor": 4
}
